{
 "cells": [
  {
   "cell_type": "code",
   "execution_count": 1,
   "metadata": {
    "collapsed": true
   },
   "outputs": [],
   "source": [
    "# These are all the modules we'll be using later. Make sure you can import them\n",
    "# before proceeding further.\n",
    "from __future__ import print_function\n",
    "import numpy as np\n",
    "import tensorflow as tf\n",
    "from six.moves import cPickle as pickle\n",
    "from six.moves import range\n",
    "import numpy as np\n",
    "from matplotlib import pyplot as plt\n",
    "\n",
    "EAST = 1\n",
    "WEST = 2\n",
    "NORTH = 4\n",
    "SOUTH = 8"
   ]
  },
  {
   "cell_type": "code",
   "execution_count": 2,
   "metadata": {
    "scrolled": false
   },
   "outputs": [
    {
     "name": "stdout",
     "output_type": "stream",
     "text": [
      "[[ 10.    30.02  62.    50.    60.    21.     1.  ]\n",
      " [ 10.    29.95  76.    54.    60.    18.     1.  ]\n",
      " [ 10.    29.9   91.    59.    61.    15.     1.  ]\n",
      " [ 10.    29.76  49.    62.    78.    12.     1.  ]\n",
      " [  6.    29.68  43.    59.    78.     9.     1.  ]\n",
      " [  0.    29.66  60.    58.    69.     6.     1.  ]\n",
      " [  6.    29.57  26.    54.    84.     3.     1.  ]\n",
      " [  5.    29.57  66.    63.    72.    12.     1.  ]\n",
      " [ 10.    29.94  57.    51.    62.    21.     1.  ]\n",
      " [ 10.    29.94  44.    49.    66.    18.     1.  ]] [ 60.  60.  61.  78.  78.  69.  84.  72.  62.  66.]\n"
     ]
    }
   ],
   "source": [
    "filename_queue = tf.train.string_input_producer([\"melbourne_weather.csv\"])\n",
    "reader = tf.TextLineReader(skip_header_lines=2)\n",
    "key, value = reader.read(filename_queue)\n",
    "record_defaults = [['0.0'] for row in xrange(17)]\n",
    "# record_defaults[8]=tf.constant([], dtype=tf.float32)   # Column 0\n",
    "#                tf.constant([], dtype=tf.float32)\n",
    "#                tf.constant([], dtype=tf.float32)\n",
    "#                tf.constant([], dtype=tf.float32)\n",
    "#               tf.constant([], dtype=tf.string)\n",
    "cols = tf.decode_csv(value, record_defaults)\n",
    "features = tf.stack([\n",
    "#     cols[3],\n",
    "    cols[8],\n",
    "    cols[10],\n",
    "    cols[11],\n",
    "    cols[12],\n",
    "    cols[14],\n",
    "    cols[15],\n",
    "    cols[16]\n",
    "    ])\n",
    "\n",
    "features_train = []\n",
    "label_train = []\n",
    "with tf.Session() as sess:\n",
    "    # Start populating the filename queue.\n",
    "    coord = tf.train.Coordinator()\n",
    "    threads = tf.train.start_queue_runners(coord=coord)\n",
    "    for i in range(1000):\n",
    "        # Retrieve a single instance:\n",
    "        feature, label = sess.run([features, cols[14]])\n",
    "        ampm = feature[5].split(\" \")\n",
    "        feature[5] = feature[5].split(\":\")[0]\n",
    "        if ampm[1]=='pm' and feature[5]!='12':\n",
    "            feature[5]=12+int(feature[5])\n",
    "        feature[6] = feature[6].split(\"-\")[1]\n",
    "        winddir = 0\n",
    "        if 'n' in feature[0]:\n",
    "            winddir ^= NORTH\n",
    "        elif 's' in feature[0]:\n",
    "            winddir ^= SOUTH\n",
    "        if 'w' in feature[0]:\n",
    "            winddir ^= WEST\n",
    "        elif 'e' in feature[0]:\n",
    "            winddir ^= EAST\n",
    "        feature[0]=winddir\n",
    "        features_train.append(feature)\n",
    "        label_train.append(label)\n",
    "        \n",
    "    coord.request_stop()\n",
    "    coord.join(threads)\n",
    "features_train = np.array(features_train, dtype=float)\n",
    "label_train = np.array(label_train,dtype=float)\n",
    "print (features_train[:10],label_train[:10])"
   ]
  },
  {
   "cell_type": "code",
   "execution_count": 4,
   "metadata": {},
   "outputs": [
    {
     "data": {
      "image/png": "[encoded data removed]",
      "text/plain": [
       "<matplotlib.figure.Figure at 0x7f537d768dd0>"
      ]
     },
     "metadata": {},
     "output_type": "display_data"
    }
   ],
   "source": [
    "x = []\n",
    "for i in xrange(len(features_train)):\n",
    "    x.append(features_train[i][6]*100+features_train[i][5])\n",
    "plt.plot(x,label_train[i], color='blue')\n",
    "plt.show()"
   ]
  }
 ],
 "metadata": {
  "kernelspec": {
   "display_name": "Python 2",
   "language": "python",
   "name": "python2"
  },
  "language_info": {
   "codemirror_mode": {
    "name": "ipython",
    "version": 2
   },
   "file_extension": ".py",
   "mimetype": "text/x-python",
   "name": "python",
   "nbconvert_exporter": "python",
   "pygments_lexer": "ipython2",
   "version": "2.7.12"
  }
 },
 "nbformat": 4,
 "nbformat_minor": 2
}
